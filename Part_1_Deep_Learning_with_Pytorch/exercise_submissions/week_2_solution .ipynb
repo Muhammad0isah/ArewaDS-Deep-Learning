{
 "cells": [
  {
   "cell_type": "markdown",
   "id": "69f4560e0d14c08f",
   "metadata": {},
   "source": []
  },
  {
   "cell_type": "markdown",
   "id": "3d98767caebc0414",
   "metadata": {},
   "source": []
  },
  {
   "cell_type": "markdown",
   "id": "8d68e8d79bd63ceb",
   "metadata": {},
   "source": [
    "## Arewa Data Science Academy\n",
    "### Deep Learning Cohort1.0\n",
    "\n",
    "#### Name: Muhammad Ibrahim Isah \n",
    "#### Email: muhammadibrahimisah0@gmail.com\n",
    "#### Title: Week 2 Solution"
   ]
  },
  {
   "cell_type": "markdown",
   "id": "cec8fa3e53e81a82",
   "metadata": {},
   "source": [
    "### Exercises Solution"
   ]
  },
  {
   "cell_type": "code",
   "execution_count": 58,
   "id": "e0f840fb48115860",
   "metadata": {
    "ExecuteTime": {
     "end_time": "2023-12-25T11:07:55.759450100Z",
     "start_time": "2023-12-25T11:07:55.735576300Z"
    }
   },
   "outputs": [
    {
     "name": "stdout",
     "output_type": "stream",
     "text": [
      "no. of X samples: 100\n",
      "no. of y samples: 100\n"
     ]
    },
    {
     "data": {
      "text/plain": [
       "(tensor([[0.0000],\n",
       "         [0.0100],\n",
       "         [0.0200],\n",
       "         [0.0300],\n",
       "         [0.0400]]),\n",
       " tensor([[0.9000],\n",
       "         [0.9030],\n",
       "         [0.9060],\n",
       "         [0.9090],\n",
       "         [0.9120]]),\n",
       " torch.Size([100, 1]),\n",
       " torch.Size([100, 1]))"
      ]
     },
     "execution_count": 58,
     "metadata": {},
     "output_type": "execute_result"
    }
   ],
   "source": [
    "# Q1. Create a straight line dataset using the linear regression formula (`weight * X + bias`).\n",
    "\n",
    "import torch\n",
    "import matplotlib.pyplot as plt\n",
    "from torch import nn\n",
    "\n",
    "weight = 0.3\n",
    "bias = 0.9\n",
    "X = torch.arange(0,1,0.01).unsqueeze(dim = 1)\n",
    "y = weight * X + bias\n",
    "print(\"no. of X samples:\",X.shape[0])\n",
    "print(\"no. of y samples:\",y.shape[0])\n",
    "X[:5],y[:5],X.shape,y.shape"
   ]
  },
  {
   "cell_type": "code",
   "execution_count": 59,
   "id": "67b34041",
   "metadata": {},
   "outputs": [
    {
     "data": {
      "text/plain": [
       "(80, 80, 20, 20)"
      ]
     },
     "execution_count": 59,
     "metadata": {},
     "output_type": "execute_result"
    }
   ],
   "source": [
    " from sklearn.model_selection import train_test_split\n",
    "    \n",
    "X_train, X_test, y_train, y_test = train_test_split(X, y, test_size=0.20)\n",
    "\n",
    "\n",
    "len(X_train),len(y_train),len(X_test),len(y_test)"
   ]
  },
  {
   "cell_type": "code",
   "execution_count": 60,
   "id": "634d2ef4b686a88e",
   "metadata": {
    "ExecuteTime": {
     "end_time": "2023-12-25T11:15:01.012409800Z",
     "start_time": "2023-12-25T11:15:00.909678700Z"
    }
   },
   "outputs": [
    {
     "data": {
      "image/png": "[encoded data removed]",
      "text/plain": [
       "<Figure size 640x480 with 1 Axes>"
      ]
     },
     "metadata": {},
     "output_type": "display_data"
    }
   ],
   "source": [
    "plt.scatter(X_train,y_train,c='b',s=9,label='training data')\n",
    "plt.scatter(X_test,y_test,c='r',s=9,label='test data')\n",
    "plt.show()"
   ]
  },
  {
   "cell_type": "code",
   "execution_count": 61,
   "id": "24b33d8a7128fe56",
   "metadata": {
    "ExecuteTime": {
     "end_time": "2023-12-25T11:21:47.644605200Z",
     "start_time": "2023-12-25T11:21:47.588904900Z"
    }
   },
   "outputs": [
    {
     "data": {
      "text/plain": [
       "(LinearRegressionModel(),\n",
       " OrderedDict([('weight', tensor([0.9307])), ('bias', tensor([-0.3482]))]))"
      ]
     },
     "execution_count": 61,
     "metadata": {},
     "output_type": "execute_result"
    }
   ],
   "source": [
    "# Q2. Build a PyTorch model by subclassing `nn.Module`. \n",
    "\n",
    "\n",
    "class LinearRegressionModel(nn.Module):\n",
    "  def __init__(self):\n",
    "    super().__init__()\n",
    "    self.weight = nn.Parameter(data=torch.randn(1, requires_grad=True, dtype=torch.float))\n",
    "    \n",
    "    self.bias = nn.Parameter(data=torch.randn(1,  requires_grad=True, dtype=torch.float ))\n",
    "\n",
    "  def forward(self, x):\n",
    "    return self.weight * x + self.bias\n",
    "\n",
    "  \n",
    "torch.manual_seed(40)\n",
    "model = LinearRegressionModel()\n",
    "model,model.state_dict()"
   ]
  },
  {
   "cell_type": "code",
   "execution_count": 62,
   "id": "ca9c80c9",
   "metadata": {},
   "outputs": [
    {
     "data": {
      "text/plain": [
       "[Parameter containing:\n",
       " tensor([0.9307], requires_grad=True),\n",
       " Parameter containing:\n",
       " tensor([-0.3482], requires_grad=True)]"
      ]
     },
     "execution_count": 62,
     "metadata": {},
     "output_type": "execute_result"
    }
   ],
   "source": [
    "list(model.parameters())"
   ]
  },
  {
   "cell_type": "code",
   "execution_count": 63,
   "id": "a523ac7c",
   "metadata": {},
   "outputs": [],
   "source": [
    "# Q3 Create a loss function and optimizer using `nn.L1Loss()` and `torch.optim.SGD(params, lr)` respectively. \n",
    "\n",
    "loss_fn = nn.L1Loss()\n",
    "optimizer = torch.optim.SGD(params = model.parameters(), lr = 0.01)\n"
   ]
  },
  {
   "cell_type": "code",
   "execution_count": 68,
   "id": "ef020f899cb9ed43",
   "metadata": {
    "ExecuteTime": {
     "end_time": "2023-12-25T11:29:18.809453500Z",
     "start_time": "2023-12-25T11:29:18.734738200Z"
    },
    "scrolled": true
   },
   "outputs": [
    {
     "name": "stdout",
     "output_type": "stream",
     "text": [
      "Epoch: 0 \t Train loss: 0.133 \t Test loss: 0.154\n",
      "Epoch: 20 \t Train loss: 0.123 \t Test loss: 0.143\n",
      "Epoch: 40 \t Train loss: 0.114 \t Test loss: 0.132\n",
      "Epoch: 60 \t Train loss: 0.104 \t Test loss: 0.121\n",
      "Epoch: 80 \t Train loss: 0.095 \t Test loss: 0.110\n",
      "Epoch: 100 \t Train loss: 0.086 \t Test loss: 0.099\n",
      "Epoch: 120 \t Train loss: 0.076 \t Test loss: 0.088\n",
      "Epoch: 140 \t Train loss: 0.067 \t Test loss: 0.077\n",
      "Epoch: 160 \t Train loss: 0.057 \t Test loss: 0.066\n",
      "Epoch: 180 \t Train loss: 0.048 \t Test loss: 0.055\n",
      "Epoch: 200 \t Train loss: 0.039 \t Test loss: 0.044\n",
      "Epoch: 220 \t Train loss: 0.029 \t Test loss: 0.033\n",
      "Epoch: 240 \t Train loss: 0.020 \t Test loss: 0.023\n",
      "Epoch: 260 \t Train loss: 0.010 \t Test loss: 0.012\n",
      "Epoch: 280 \t Train loss: 0.007 \t Test loss: 0.005\n"
     ]
    }
   ],
   "source": [
    "\n",
    "# Train the model for 300 epochs\n",
    "torch.manual_seed(40)\n",
    "\n",
    "epochs = 300\n",
    "\n",
    "\n",
    "for epoch in range(epochs):\n",
    "  model.train()\n",
    "  y_pred = model(X_train)\n",
    "  loss = loss_fn(y_pred,y_train)\n",
    "  optimizer.zero_grad()\n",
    "  # backpropagation\n",
    "  loss.backward()\n",
    "  optimizer.step()\n",
    "\n",
    "  if epoch % 20 == 0:\n",
    "    model.eval()\n",
    "    with torch.inference_mode():\n",
    "      y_preds = model(X_test)\n",
    "      test_loss = loss_fn(y_preds,y_test)\n",
    "      print(f\"Epoch: {epoch} \\t Train loss: {loss:.3f} \\t Test loss: {test_loss:.3f}\")"
   ]
  },
  {
   "cell_type": "code",
   "execution_count": 69,
   "id": "ddc20ec8b2db873",
   "metadata": {},
   "outputs": [
    {
     "data": {
      "text/plain": [
       "(tensor([[0.9042],\n",
       "         [1.1340],\n",
       "         [1.0463],\n",
       "         [1.1158],\n",
       "         [0.9646],\n",
       "         [1.1702],\n",
       "         [0.9465],\n",
       "         [1.1612],\n",
       "         [0.9767],\n",
       "         [0.9495]]),\n",
       " torch.Size([100, 1]))"
      ]
     },
     "execution_count": 69,
     "metadata": {},
     "output_type": "execute_result"
    }
   ],
   "source": [
    "# Q4. Make predictions with the trained model on the test data\n",
    "\n",
    "model.eval()\n",
    "\n",
    "with torch.inference_mode():\n",
    "  y_preds = model(X_test)\n",
    "y_preds[:10],y.shape"
   ]
  },
  {
   "cell_type": "code",
   "execution_count": 70,
   "id": "38c44715",
   "metadata": {},
   "outputs": [
    {
     "data": {
      "image/png": "[encoded data removed]",
      "text/plain": [
       "<Figure size 640x480 with 1 Axes>"
      ]
     },
     "metadata": {},
     "output_type": "display_data"
    }
   ],
   "source": [
    "# Plot the training and testing data \n",
    "def plot_predictions(X_train,y_train,X_test,y_test,predictions):\n",
    "  plt.scatter(X_train,y_train,c = 'b',s = 5,label = \"Training data\")\n",
    "  plt.scatter(X_test,y_test,c = 'g',s = 5,label = \"Test data\")\n",
    "  plt.scatter(X_test,predictions,c = 'r',s = 4,label = \"Predictions\")\n",
    "  plt.legend()\n",
    "plot_predictions(X_train,y_train,X_test,y_test,y_preds)"
   ]
  },
  {
   "cell_type": "code",
   "execution_count": 67,
   "id": "b4cef162",
   "metadata": {},
   "outputs": [],
   "source": [
    "# Q5. Save your trained model's `state_dict()` to file.\n",
    "\n",
    "torch.save(model.state_dict(), \"lr_model\")\n"
   ]
  }
 ],
 "metadata": {
  "kernelspec": {
   "display_name": "Python 3 (ipykernel)",
   "language": "python",
   "name": "python3"
  },
  "language_info": {
   "codemirror_mode": {
    "name": "ipython",
    "version": 3
   },
   "file_extension": ".py",
   "mimetype": "text/x-python",
   "name": "python",
   "nbconvert_exporter": "python",
   "pygments_lexer": "ipython3",
   "version": "3.11.4"
  }
 },
 "nbformat": 4,
 "nbformat_minor": 5
}
