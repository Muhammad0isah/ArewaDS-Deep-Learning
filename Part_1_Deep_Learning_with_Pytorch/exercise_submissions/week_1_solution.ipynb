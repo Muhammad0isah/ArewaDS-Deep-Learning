{
 "cells": [
  {
   "cell_type": "markdown",
   "source": [],
   "metadata": {
    "collapsed": false
   },
   "id": "69f4560e0d14c08f"
  },
  {
   "cell_type": "markdown",
   "source": [],
   "metadata": {
    "collapsed": false
   },
   "id": "3d98767caebc0414"
  },
  {
   "cell_type": "markdown",
   "source": [
    "## Arewa Data Science Academy\n",
    "### Deep Learning Cohort1.0\n",
    "\n",
    "#### Name: Muhammad Ibrahim Isah \n",
    "#### Email: muhammadibrahimisah0@gmail.com\n",
    "#### Title: Week 1 Solution"
   ],
   "metadata": {
    "collapsed": false
   },
   "id": "8d68e8d79bd63ceb"
  },
  {
   "cell_type": "markdown",
   "source": [
    "### Exercises Solution"
   ],
   "metadata": {
    "collapsed": false
   },
   "id": "cec8fa3e53e81a82"
  },
  {
   "cell_type": "code",
   "outputs": [
    {
     "data": {
      "text/plain": "(tensor([[0.4362, 0.0037, 0.1445, 0.2260, 0.2751, 0.4716, 0.3600],\n         [0.0789, 0.4903, 0.2420, 0.7027, 0.7895, 0.2342, 0.0680],\n         [0.5828, 0.1443, 0.1643, 0.9561, 0.1665, 0.3389, 0.8608],\n         [0.5169, 0.5615, 0.7107, 0.1013, 0.6123, 0.4705, 0.6322],\n         [0.1243, 0.6224, 0.3491, 0.0439, 0.8884, 0.4930, 0.6646],\n         [0.2483, 0.3835, 0.3385, 0.3346, 0.1466, 0.6180, 0.4066],\n         [0.0421, 0.5068, 0.2497, 0.8925, 0.6354, 0.7840, 0.3264]]),\n torch.Size([7, 7]))"
     },
     "execution_count": 5,
     "metadata": {},
     "output_type": "execute_result"
    }
   ],
   "source": [
    "# Q2. Create a random tensor with shape `(7, 7)`.\n",
    "\n",
    "import torch \n",
    "\n",
    "# Create random tensor\n",
    "X = torch.rand(size=(7, 7))\n",
    "X, X.shape"
   ],
   "metadata": {
    "collapsed": false,
    "ExecuteTime": {
     "end_time": "2023-12-25T11:07:55.759450100Z",
     "start_time": "2023-12-25T11:07:55.735576300Z"
    }
   },
   "id": "e0f840fb48115860",
   "execution_count": 5
  },
  {
   "cell_type": "code",
   "outputs": [
    {
     "data": {
      "text/plain": "(tensor([[0.5394],\n         [0.8404],\n         [0.9617],\n         [1.1447],\n         [1.0279],\n         [0.9176],\n         [1.2465]]),\n torch.Size([7, 1]))"
     },
     "execution_count": 6,
     "metadata": {},
     "output_type": "execute_result"
    }
   ],
   "source": [
    "# Q 3. Perform a matrix multiplication on the tensor from 2 with another random tensor with shape `(1, 7)` (hint: you may have to transpose the second tensor).\n",
    "\n",
    "Y = torch.rand(size=(1, 7))\n",
    "Z = torch.matmul(X, Y.T) \n",
    "Z, Z.shape\n"
   ],
   "metadata": {
    "collapsed": false,
    "ExecuteTime": {
     "end_time": "2023-12-25T11:15:01.012409800Z",
     "start_time": "2023-12-25T11:15:00.909678700Z"
    }
   },
   "id": "634d2ef4b686a88e",
   "execution_count": 6
  },
  {
   "cell_type": "code",
   "outputs": [
    {
     "data": {
      "text/plain": "(tensor([[1.8542],\n         [1.9611],\n         [2.2884],\n         [3.0481],\n         [1.7067],\n         [2.5290],\n         [1.7989]]),\n torch.Size([7, 1]))"
     },
     "execution_count": 7,
     "metadata": {},
     "output_type": "execute_result"
    }
   ],
   "source": [
    "# Q4. Set the random seed to `0` and do 2 & 3 over again\n",
    "\n",
    "# Set 0 seed\n",
    "torch.manual_seed(0)\n",
    "\n",
    "X = torch.rand(size=(7, 7))\n",
    "Y = torch.rand(size=(1, 7))\n",
    "\n",
    "Z = torch.matmul(X, Y.T)\n",
    "Z, Z.shape"
   ],
   "metadata": {
    "collapsed": false,
    "ExecuteTime": {
     "end_time": "2023-12-25T11:21:47.644605200Z",
     "start_time": "2023-12-25T11:21:47.588904900Z"
    }
   },
   "id": "24b33d8a7128fe56",
   "execution_count": 7
  },
  {
   "cell_type": "code",
   "outputs": [
    {
     "name": "stdout",
     "output_type": "stream",
     "text": [
      "Device: cpu\n"
     ]
    },
    {
     "data": {
      "text/plain": "(tensor([[0.0290, 0.4019, 0.2598],\n         [0.3666, 0.0583, 0.7006]]),\n tensor([[0.0518, 0.4681, 0.6738],\n         [0.3315, 0.7837, 0.5631]]))"
     },
     "execution_count": 9,
     "metadata": {},
     "output_type": "execute_result"
    }
   ],
   "source": [
    "# Q6. Create two random tensors of shape `(2, 3)` and send them both to the GPU (you'll need access to a GPU for this). Set `torch.manual_seed(1234)` when creating the tensors (this doesn't have to be the GPU random seed). The output should be som\n",
    "\n",
    "# Set random seed to 1234\n",
    "torch.manual_seed(1234)\n",
    "\n",
    "device = \"cuda\" if torch.cuda.is_available() else \"cpu\"\n",
    "print(f\"Device: {device}\")\n",
    "\n",
    "tensor_A = torch.rand(size=(2,3)).to(device)\n",
    "tensor_B = torch.rand(size=(2,3)).to(device)\n",
    "tensor_A, tensor_B\n",
    "\n"
   ],
   "metadata": {
    "collapsed": false,
    "ExecuteTime": {
     "end_time": "2023-12-25T11:29:18.809453500Z",
     "start_time": "2023-12-25T11:29:18.734738200Z"
    }
   },
   "id": "ef020f899cb9ed43",
   "execution_count": 9
  },
  {
   "cell_type": "code",
   "outputs": [],
   "source": [],
   "metadata": {
    "collapsed": false
   },
   "id": "ddc20ec8b2db873"
  }
 ],
 "metadata": {
  "kernelspec": {
   "display_name": "Python 3",
   "language": "python",
   "name": "python3"
  },
  "language_info": {
   "codemirror_mode": {
    "name": "ipython",
    "version": 2
   },
   "file_extension": ".py",
   "mimetype": "text/x-python",
   "name": "python",
   "nbconvert_exporter": "python",
   "pygments_lexer": "ipython2",
   "version": "2.7.6"
  }
 },
 "nbformat": 4,
 "nbformat_minor": 5
}
