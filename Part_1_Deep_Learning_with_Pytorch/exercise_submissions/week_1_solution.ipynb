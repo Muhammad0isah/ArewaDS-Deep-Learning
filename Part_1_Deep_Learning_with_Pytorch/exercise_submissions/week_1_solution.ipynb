{
 "cells": [
  {
   "cell_type": "markdown",
   "id": "69f4560e0d14c08f",
   "metadata": {},
   "source": []
  },
  {
   "cell_type": "markdown",
   "id": "3d98767caebc0414",
   "metadata": {},
   "source": []
  },
  {
   "cell_type": "markdown",
   "id": "8d68e8d79bd63ceb",
   "metadata": {},
   "source": [
    "## Arewa Data Science Academy\n",
    "### Deep Learning Cohort1.0\n",
    "\n",
    "#### Name: Muhammad Ibrahim Isah \n",
    "#### Email: muhammadibrahimisah0@gmail.com\n",
    "#### Title: Week 1 Solution"
   ]
  },
  {
   "cell_type": "markdown",
   "id": "cec8fa3e53e81a82",
   "metadata": {},
   "source": [
    "### Exercises Solution"
   ]
  },
  {
   "cell_type": "code",
   "execution_count": 5,
   "id": "e0f840fb48115860",
   "metadata": {
    "ExecuteTime": {
     "end_time": "2023-12-25T11:07:55.759450100Z",
     "start_time": "2023-12-25T11:07:55.735576300Z"
    }
   },
   "outputs": [
    {
     "data": {
      "text/plain": [
       "(tensor([[0.7749, 0.8208, 0.2793, 0.6817, 0.2837, 0.6567, 0.2388],\n",
       "         [0.7313, 0.6012, 0.3043, 0.2548, 0.6294, 0.9665, 0.7399],\n",
       "         [0.4517, 0.4757, 0.7842, 0.1525, 0.6662, 0.3343, 0.7893],\n",
       "         [0.3216, 0.5247, 0.6688, 0.8436, 0.4265, 0.9561, 0.0770],\n",
       "         [0.4108, 0.0014, 0.5414, 0.6419, 0.2976, 0.7077, 0.4189],\n",
       "         [0.0655, 0.8839, 0.8083, 0.7528, 0.8988, 0.6839, 0.7658],\n",
       "         [0.9149, 0.3993, 0.1100, 0.2541, 0.4333, 0.4451, 0.4966]]),\n",
       " torch.Size([7, 7]))"
      ]
     },
     "execution_count": 5,
     "metadata": {},
     "output_type": "execute_result"
    }
   ],
   "source": [
    "# Q2. Create a random tensor with shape `(7, 7)`.\n",
    "\n",
    "import torch \n",
    "\n",
    "# Create random tensor\n",
    "X = torch.rand(size=(7, 7))\n",
    "X, X.shape"
   ]
  },
  {
   "cell_type": "code",
   "execution_count": 6,
   "id": "634d2ef4b686a88e",
   "metadata": {
    "ExecuteTime": {
     "end_time": "2023-12-25T11:15:01.012409800Z",
     "start_time": "2023-12-25T11:15:00.909678700Z"
    }
   },
   "outputs": [
    {
     "data": {
      "text/plain": [
       "(tensor([[2.1391],\n",
       "         [2.3548],\n",
       "         [1.6001],\n",
       "         [1.9384],\n",
       "         [1.4356],\n",
       "         [2.1416],\n",
       "         [1.7684]]),\n",
       " torch.Size([7, 1]))"
      ]
     },
     "execution_count": 6,
     "metadata": {},
     "output_type": "execute_result"
    }
   ],
   "source": [
    "# Q 3. Perform a matrix multiplication on the tensor from 2 with another random tensor with shape `(1, 7)` (hint: you may have to transpose the second tensor).\n",
    "\n",
    "Y = torch.rand(size=(1, 7))\n",
    "Z = torch.matmul(X, Y.T) \n",
    "Z, Z.shape\n"
   ]
  },
  {
   "cell_type": "code",
   "execution_count": 7,
   "id": "24b33d8a7128fe56",
   "metadata": {
    "ExecuteTime": {
     "end_time": "2023-12-25T11:21:47.644605200Z",
     "start_time": "2023-12-25T11:21:47.588904900Z"
    }
   },
   "outputs": [
    {
     "data": {
      "text/plain": [
       "(tensor([[1.8542],\n",
       "         [1.9611],\n",
       "         [2.2884],\n",
       "         [3.0481],\n",
       "         [1.7067],\n",
       "         [2.5290],\n",
       "         [1.7989]]),\n",
       " torch.Size([7, 1]))"
      ]
     },
     "execution_count": 7,
     "metadata": {},
     "output_type": "execute_result"
    }
   ],
   "source": [
    "# Q4. Set the random seed to `0` and do 2 & 3 over again\n",
    "\n",
    "# Set 0 seed\n",
    "torch.manual_seed(0)\n",
    "\n",
    "X = torch.rand(size=(7, 7))\n",
    "Y = torch.rand(size=(1, 7))\n",
    "\n",
    "Z = torch.matmul(X, Y.T)\n",
    "Z, Z.shape"
   ]
  },
  {
   "cell_type": "code",
   "execution_count": 8,
   "id": "ef020f899cb9ed43",
   "metadata": {
    "ExecuteTime": {
     "end_time": "2023-12-25T11:29:18.809453500Z",
     "start_time": "2023-12-25T11:29:18.734738200Z"
    }
   },
   "outputs": [
    {
     "name": "stdout",
     "output_type": "stream",
     "text": [
      "Device: cpu\n"
     ]
    },
    {
     "data": {
      "text/plain": [
       "(tensor([[0.0290, 0.4019, 0.2598],\n",
       "         [0.3666, 0.0583, 0.7006]]),\n",
       " tensor([[0.0518, 0.4681, 0.6738],\n",
       "         [0.3315, 0.7837, 0.5631]]))"
      ]
     },
     "execution_count": 8,
     "metadata": {},
     "output_type": "execute_result"
    }
   ],
   "source": [
    "# Q6. Create two random tensors of shape `(2, 3)` and send them both to the GPU (you'll need access to a GPU for this). Set `torch.manual_seed(1234)` when creating the tensors (this doesn't have to be the GPU random seed). The output should be som\n",
    "\n",
    "# Set random seed to 1234\n",
    "torch.manual_seed(1234)\n",
    "\n",
    "device = \"cuda\" if torch.cuda.is_available() else \"cpu\"\n",
    "print(f\"Device: {device}\")\n",
    "\n",
    "tensor_A = torch.rand(size=(2,3)).to(device)\n",
    "tensor_B = torch.rand(size=(2,3)).to(device)\n",
    "tensor_A, tensor_B\n",
    "\n"
   ]
  },
  {
   "cell_type": "code",
   "execution_count": null,
   "id": "ddc20ec8b2db873",
   "metadata": {},
   "outputs": [],
   "source": []
  }
 ],
 "metadata": {
  "kernelspec": {
   "display_name": "Python 3 (ipykernel)",
   "language": "python",
   "name": "python3"
  },
  "language_info": {
   "codemirror_mode": {
    "name": "ipython",
    "version": 3
   },
   "file_extension": ".py",
   "mimetype": "text/x-python",
   "name": "python",
   "nbconvert_exporter": "python",
   "pygments_lexer": "ipython3",
   "version": "3.11.4"
  }
 },
 "nbformat": 4,
 "nbformat_minor": 5
}
